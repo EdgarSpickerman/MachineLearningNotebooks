{
 "cells": [
  {
   "cell_type": "markdown",
   "metadata": {},
   "source": [
    "# Installation Instructions for ODSC Demo"
   ]
  },
  {
   "cell_type": "code",
   "execution_count": null,
   "metadata": {},
   "outputs": [],
   "source": [
    "# You can install in your current python environment or create a new one\n",
    "# Usually, you will want to try new software in anaconda, see here for installation instructions:\n",
    "# https://docs.anaconda.com/anaconda/install/\n",
    "# In terminal, create your conda environment\n",
    "# conda create -n odsc python=3.6"
   ]
  },
  {
   "cell_type": "code",
   "execution_count": null,
   "metadata": {},
   "outputs": [],
   "source": [
    "# To run jupyter notebooks, you will need to install jupyter\n",
    "# pip install jupyter"
   ]
  },
  {
   "cell_type": "code",
   "execution_count": null,
   "metadata": {},
   "outputs": [],
   "source": [
    "# To see the widget you will need to install jupyter widgets\n",
    "# conda install -c conda-forge ipywidgets"
   ]
  },
  {
   "cell_type": "code",
   "execution_count": null,
   "metadata": {},
   "outputs": [],
   "source": [
    "# nb_conda is a nice package to manage conda environments in jupyter notebooks\n",
    "# conda install nb_conda"
   ]
  },
  {
   "cell_type": "code",
   "execution_count": null,
   "metadata": {},
   "outputs": [],
   "source": [
    "# If using run history, you will want to install the core azureml package first\n",
    "!pip install azureml-core\n",
    "# Run pip install of our package\n",
    "!pip install azureml-explain-model\n",
    "# You can install contrib package for latest features\n",
    "!pip install azureml-contrib-explain-model"
   ]
  },
  {
   "cell_type": "code",
   "execution_count": null,
   "metadata": {},
   "outputs": [],
   "source": [
    "# You can also pip install the azureml SDK\n",
    "!pip install azureml-sdk[explain, contrib]"
   ]
  },
  {
   "cell_type": "code",
   "execution_count": null,
   "metadata": {},
   "outputs": [],
   "source": [
    "# Enable the jupyter widget and restart kernel\n",
    "!jupyter nbextension install --py --user azureml.contrib.explain.model.visualize\n",
    "!jupyter nbextension enable azureml.contrib.explain.model.visualize --user --py"
   ]
  }
 ],
 "metadata": {
  "kernelspec": {
   "display_name": "Python [conda env:test] *",
   "language": "python",
   "name": "conda-env-test-py"
  },
  "language_info": {
   "codemirror_mode": {
    "name": "ipython",
    "version": 3
   },
   "file_extension": ".py",
   "mimetype": "text/x-python",
   "name": "python",
   "nbconvert_exporter": "python",
   "pygments_lexer": "ipython3",
   "version": "3.6.7"
  }
 },
 "nbformat": 4,
 "nbformat_minor": 2
}
